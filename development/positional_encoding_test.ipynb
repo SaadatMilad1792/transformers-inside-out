{
 "cells": [
  {
   "cell_type": "code",
   "execution_count": 13,
   "id": "c1d15eba",
   "metadata": {},
   "outputs": [
    {
     "name": "stdout",
     "output_type": "stream",
     "text": [
      "Positional encoding matrix for [max_sequence_length = 8, model_emb = 6]\n",
      "--------------------------------------------------------------------------------\n",
      "tensor([[ 0.0000,  1.0000,  0.0000,  1.0000,  0.0000,  1.0000],\n",
      "        [ 0.8415,  0.5403,  0.0464,  0.9989,  0.0022,  1.0000],\n",
      "        [ 0.9093, -0.4161,  0.0927,  0.9957,  0.0043,  1.0000],\n",
      "        [ 0.1411, -0.9900,  0.1388,  0.9903,  0.0065,  1.0000],\n",
      "        [-0.7568, -0.6536,  0.1846,  0.9828,  0.0086,  1.0000],\n",
      "        [-0.9589,  0.2837,  0.2300,  0.9732,  0.0108,  0.9999],\n",
      "        [-0.2794,  0.9602,  0.2749,  0.9615,  0.0129,  0.9999],\n",
      "        [ 0.6570,  0.7539,  0.3192,  0.9477,  0.0151,  0.9999]])\n"
     ]
    }
   ],
   "source": [
    "########################################################################################################################\n",
    "## -- libraries and packages -- ########################################################################################\n",
    "########################################################################################################################\n",
    "import os\n",
    "import sys\n",
    "sys.path.append(os.path.abspath(\"..\"))\n",
    "import transformer\n",
    "\n",
    "########################################################################################################################\n",
    "## -- testing positional encoding -- ###################################################################################\n",
    "########################################################################################################################\n",
    "max_sequence_length, model_emb = 8, 6\n",
    "positional_encoding = transformer.PositionalEncoding(max_sequence_length, model_emb)\n",
    "positional_encoding_matrix = positional_encoding()\n",
    "print(f\"Positional encoding matrix for [max_sequence_length = {max_sequence_length}, model_emb = {model_emb}]\" +\n",
    "      f\"\\n{'-' * 80}\\n{positional_encoding_matrix}\")"
   ]
  }
 ],
 "metadata": {
  "kernelspec": {
   "display_name": "transformersInsideOut",
   "language": "python",
   "name": "python3"
  },
  "language_info": {
   "codemirror_mode": {
    "name": "ipython",
    "version": 3
   },
   "file_extension": ".py",
   "mimetype": "text/x-python",
   "name": "python",
   "nbconvert_exporter": "python",
   "pygments_lexer": "ipython3",
   "version": "3.11.13"
  }
 },
 "nbformat": 4,
 "nbformat_minor": 5
}
