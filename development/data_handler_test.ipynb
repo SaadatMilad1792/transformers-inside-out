{
 "cells": [
  {
   "cell_type": "code",
   "execution_count": 1,
   "id": "c11be500",
   "metadata": {},
   "outputs": [
    {
     "name": "stdout",
     "output_type": "stream",
     "text": [
      "The DataHandler module preprocesses the data, and provides us with all properties we require: \n",
      "Total Sentence Count After Validation: 948\n",
      "English (EN) sentence from dataset: \n",
      "i don't speak japanese.\n",
      "Persian (FA) sentence from dataset: \n",
      "من ژاپنی صحبت نمی‌کنم.\n"
     ]
    }
   ],
   "source": [
    "########################################################################################################################\n",
    "## -- libraries and packages -- ########################################################################################\n",
    "########################################################################################################################\n",
    "import os\n",
    "import sys\n",
    "sys.path.append(os.path.abspath(\"..\"))\n",
    "import torch\n",
    "import transformer\n",
    "from torch.utils.data import DataLoader\n",
    "\n",
    "########################################################################################################################\n",
    "## -- testing the data handler module -- ###############################################################################\n",
    "########################################################################################################################\n",
    "src_vocab_path = \"../data/vocabs/en_vocab.json\"\n",
    "tgt_vocab_path = \"../data/vocabs/fa_vocab.json\"\n",
    "src_path, src_name = \"../data/dataset/Tatoeba.zip\", \"en.txt\"\n",
    "tgt_path, tgt_name = \"../data/dataset/Tatoeba.zip\", \"fa.txt\"\n",
    "SOS_TOKEN, PAD_TOKEN, EOS_TOKEN = '<SOS>', '<PAD>', '<EOS>'\n",
    "\n",
    "data_handler = transformer.DataHandler(src_path, src_name, src_vocab_path, tgt_path, tgt_name, tgt_vocab_path, \n",
    "                                       SOS_TOKEN, PAD_TOKEN, EOS_TOKEN, max_sequence_length = 256, max_sentences = 1000)\n",
    "\n",
    "data = data_handler.data()\n",
    "\n",
    "print(f\"The DataHandler module preprocesses the data, and provides us with all properties we require: \")\n",
    "print(f\"Total Sentence Count After Validation: {len(data.src_sentences)}\")\n",
    "print(f\"English (EN) sentence from dataset: \\n{data.src_sentences[10]}\")\n",
    "print(f\"Persian (FA) sentence from dataset: \\n{data.tgt_sentences[10]}\")"
   ]
  },
  {
   "cell_type": "code",
   "execution_count": 2,
   "id": "4d519a34",
   "metadata": {},
   "outputs": [
    {
     "name": "stdout",
     "output_type": "stream",
     "text": [
      "In batch 0, there are 32 English and Persian sentences\n",
      "The first English sentence in this batch is: \n",
      "i just don't know what to say.\n",
      "The first Persian sentence in this batch is: \n",
      "من فقط نمی دانم چه بگویم.\n"
     ]
    }
   ],
   "source": [
    "########################################################################################################################\n",
    "## -- testing the transformer dataset module -- ########################################################################\n",
    "########################################################################################################################\n",
    "batch_size = 32\n",
    "dataset = transformer.TransformerDataset(data.src_sentences, data.tgt_sentences)\n",
    "dataloader = DataLoader(dataset, batch_size = batch_size, shuffle = False)\n",
    "\n",
    "for batch_idx, (en_batch, fa_batch) in enumerate(dataloader):\n",
    "  print(f\"In batch {batch_idx}, there are {batch_size} English and Persian sentences\")\n",
    "  print(f\"The first English sentence in this batch is: \\n{en_batch[0]}\")\n",
    "  print(f\"The first Persian sentence in this batch is: \\n{fa_batch[0]}\")\n",
    "  break"
   ]
  },
  {
   "cell_type": "code",
   "execution_count": 3,
   "id": "955d8272",
   "metadata": {},
   "outputs": [
    {
     "name": "stdout",
     "output_type": "stream",
     "text": [
      "Encoder Padding Mask (shape: torch.Size([1, 7, 7])):\n",
      "tensor([[[ 0.0e+00,  0.0e+00, -1.0e+09, -1.0e+09, -1.0e+09, -1.0e+09, -1.0e+09],\n",
      "         [ 0.0e+00,  0.0e+00, -1.0e+09, -1.0e+09, -1.0e+09, -1.0e+09, -1.0e+09],\n",
      "         [-1.0e+09, -1.0e+09, -1.0e+09, -1.0e+09, -1.0e+09, -1.0e+09, -1.0e+09],\n",
      "         [-1.0e+09, -1.0e+09, -1.0e+09, -1.0e+09, -1.0e+09, -1.0e+09, -1.0e+09],\n",
      "         [-1.0e+09, -1.0e+09, -1.0e+09, -1.0e+09, -1.0e+09, -1.0e+09, -1.0e+09],\n",
      "         [-1.0e+09, -1.0e+09, -1.0e+09, -1.0e+09, -1.0e+09, -1.0e+09, -1.0e+09],\n",
      "         [-1.0e+09, -1.0e+09, -1.0e+09, -1.0e+09, -1.0e+09, -1.0e+09, -1.0e+09]]])\n",
      "\n",
      "Decoder Padding + Look-Ahead Mask (shape: torch.Size([1, 7, 7])):\n",
      "tensor([[[ 0.0e+00, -1.0e+09, -1.0e+09, -1.0e+09, -1.0e+09, -1.0e+09, -1.0e+09],\n",
      "         [ 0.0e+00,  0.0e+00, -1.0e+09, -1.0e+09, -1.0e+09, -1.0e+09, -1.0e+09],\n",
      "         [ 0.0e+00,  0.0e+00,  0.0e+00, -1.0e+09, -1.0e+09, -1.0e+09, -1.0e+09],\n",
      "         [ 0.0e+00,  0.0e+00,  0.0e+00,  0.0e+00, -1.0e+09, -1.0e+09, -1.0e+09],\n",
      "         [ 0.0e+00,  0.0e+00,  0.0e+00,  0.0e+00,  0.0e+00, -1.0e+09, -1.0e+09],\n",
      "         [ 0.0e+00,  0.0e+00,  0.0e+00,  0.0e+00,  0.0e+00,  0.0e+00, -1.0e+09],\n",
      "         [-1.0e+09, -1.0e+09, -1.0e+09, -1.0e+09, -1.0e+09, -1.0e+09, -1.0e+09]]])\n",
      "\n",
      "Decoder Cross Attention Mask (shape: torch.Size([1, 7, 7])):\n",
      "tensor([[[ 0.0e+00,  0.0e+00, -1.0e+09, -1.0e+09, -1.0e+09, -1.0e+09, -1.0e+09],\n",
      "         [ 0.0e+00,  0.0e+00, -1.0e+09, -1.0e+09, -1.0e+09, -1.0e+09, -1.0e+09],\n",
      "         [ 0.0e+00,  0.0e+00, -1.0e+09, -1.0e+09, -1.0e+09, -1.0e+09, -1.0e+09],\n",
      "         [ 0.0e+00,  0.0e+00, -1.0e+09, -1.0e+09, -1.0e+09, -1.0e+09, -1.0e+09],\n",
      "         [ 0.0e+00,  0.0e+00, -1.0e+09, -1.0e+09, -1.0e+09, -1.0e+09, -1.0e+09],\n",
      "         [ 0.0e+00,  0.0e+00, -1.0e+09, -1.0e+09, -1.0e+09, -1.0e+09, -1.0e+09],\n",
      "         [-1.0e+09, -1.0e+09, -1.0e+09, -1.0e+09, -1.0e+09, -1.0e+09, -1.0e+09]]])\n"
     ]
    }
   ],
   "source": [
    "########################################################################################################################\n",
    "## -- testing the mask generator module -- #############################################################################\n",
    "########################################################################################################################\n",
    "mask_gen = transformer.MaskGenerator(max_sequence_length = 7)\n",
    "en_test_batch = (\"Hi\",)\n",
    "fa_test_batch = (\"سلام\",)\n",
    "torch.set_printoptions(precision = 1)\n",
    "enc_mask, dec_mask, dec_cross_mask = mask_gen.generate_masks(en_test_batch, fa_test_batch)\n",
    "print(f\"Encoder Padding Mask (shape: {enc_mask.shape}):\")\n",
    "print(enc_mask, end = \"\\n\\n\")\n",
    "print(f\"Decoder Padding + Look-Ahead Mask (shape: {dec_mask.shape}):\")\n",
    "print(dec_mask, end = \"\\n\\n\")\n",
    "print(f\"Decoder Cross Attention Mask (shape: {dec_cross_mask.shape}):\")\n",
    "print(dec_cross_mask)"
   ]
  },
  {
   "cell_type": "code",
   "execution_count": null,
   "id": "068dd040",
   "metadata": {},
   "outputs": [],
   "source": []
  }
 ],
 "metadata": {
  "kernelspec": {
   "display_name": "transformersInsideOut",
   "language": "python",
   "name": "python3"
  },
  "language_info": {
   "codemirror_mode": {
    "name": "ipython",
    "version": 3
   },
   "file_extension": ".py",
   "mimetype": "text/x-python",
   "name": "python",
   "nbconvert_exporter": "python",
   "pygments_lexer": "ipython3",
   "version": "3.11.13"
  }
 },
 "nbformat": 4,
 "nbformat_minor": 5
}
