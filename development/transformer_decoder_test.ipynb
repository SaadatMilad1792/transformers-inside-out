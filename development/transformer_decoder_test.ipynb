{
 "cells": [
  {
   "cell_type": "code",
   "execution_count": null,
   "id": "b915d6c3",
   "metadata": {},
   "outputs": [
    {
     "data": {
      "text/plain": [
       "torch.Size([1, 256, 512])"
      ]
     },
     "execution_count": 2,
     "metadata": {},
     "output_type": "execute_result"
    }
   ],
   "source": [
    "########################################################################################################################\n",
    "## -- libraries and packages -- ########################################################################################\n",
    "########################################################################################################################\n",
    "import os\n",
    "import sys\n",
    "sys.path.append(os.path.abspath(\"..\"))\n",
    "import torch\n",
    "import transformer\n",
    "\n",
    "########################################################################################################################\n",
    "## -- testing the data handler module -- ###############################################################################\n",
    "########################################################################################################################\n",
    "src_vocab_path = \"../data/vocabs/en_vocab.json\"\n",
    "tgt_vocab_path = \"../data/vocabs/fa_vocab.json\"\n",
    "src_path, src_name = \"../data/dataset/Tatoeba.zip\", \"en.txt\"\n",
    "tgt_path, tgt_name = \"../data/dataset/Tatoeba.zip\", \"fa.txt\"\n",
    "SOS_TOKEN, PAD_TOKEN, EOS_TOKEN = '<SOS>', '<PAD>', '<EOS>'\n",
    "\n",
    "data_handler = transformer.DataHandler(src_path, src_name, src_vocab_path, tgt_path, tgt_name, tgt_vocab_path, \n",
    "                                       SOS_TOKEN, PAD_TOKEN, EOS_TOKEN, max_sequence_length = 256, max_sentences = 1000)\n",
    "\n",
    "data = data_handler.data()\n",
    "\n",
    "########################################################################################################################\n",
    "## -- testing the transformer encoder -- ###############################################################################\n",
    "########################################################################################################################\n",
    "batch_size, max_sequence_length, model_emb, num_heads, hidden, dropout_p, num_layers = 32, 256, 512, 8, 2048, 0.1, 4\n",
    "\n",
    "encoder = transformer.TransformerEncoder(model_emb, num_heads, hidden, dropout_p, num_layers, data.src_stoi,\n",
    "                                         max_sequence_length, SOS_TOKEN, PAD_TOKEN, EOS_TOKEN, device = 'cpu')\n",
    "\n",
    "en_batch, fa_batch = (\"Hi\",), (\"سلام\",)\n",
    "mask, _, _ = transformer.MaskGenerator(max_sequence_length = max_sequence_length).generate_masks(en_batch, fa_batch)\n",
    "encoder(en_batch, enc_sos_token = True, enc_eof_token = True, mask = mask).shape\n",
    "\n",
    "########################################################################################################################\n",
    "## -- testing the transformer encoder -- ###############################################################################\n",
    "########################################################################################################################\n",
    "batch_size, max_sequence_length, model_emb, num_heads, hidden, dropout_p, num_layers = 32, 256, 512, 8, 2048, 0.1, 4\n",
    "decoder = transformer.TransformerDecoder(model_emb, num_heads, hidden, dropout_p, num_layers, data.tgt_stoi,\n",
    "                                         max_sequence_length, SOS_TOKEN, PAD_TOKEN, EOS_TOKEN, device = 'cpu')\n",
    "x = torch.randn(batch_size, max_sequence_length, model_emb)\n",
    "en_batch, fa_batch = (\"Hi\",), (\"سلام\",)\n",
    "_, mask, cross_mask = transformer.MaskGenerator(max_sequence_length = max_sequence_length).generate_masks(en_batch, fa_batch)\n",
    "decoder(x, fa_batch, dec_sos_token = True, dec_eos_token = True, mask = mask, cross_mask = cross_mask).shape"
   ]
  },
  {
   "cell_type": "code",
   "execution_count": null,
   "id": "6b555ab0",
   "metadata": {},
   "outputs": [],
   "source": []
  }
 ],
 "metadata": {
  "kernelspec": {
   "display_name": "transformersInsideOut",
   "language": "python",
   "name": "python3"
  },
  "language_info": {
   "codemirror_mode": {
    "name": "ipython",
    "version": 3
   },
   "file_extension": ".py",
   "mimetype": "text/x-python",
   "name": "python",
   "nbconvert_exporter": "python",
   "pygments_lexer": "ipython3",
   "version": "3.11.13"
  }
 },
 "nbformat": 4,
 "nbformat_minor": 5
}
