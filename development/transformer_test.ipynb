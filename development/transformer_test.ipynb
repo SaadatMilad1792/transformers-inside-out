{
 "cells": [
  {
   "cell_type": "code",
   "execution_count": null,
   "id": "d45e4d47",
   "metadata": {},
   "outputs": [
    {
     "data": {
      "text/plain": [
       "torch.Size([1, 256, 85])"
      ]
     },
     "execution_count": 1,
     "metadata": {},
     "output_type": "execute_result"
    }
   ],
   "source": [
    "########################################################################################################################\n",
    "## -- libraries and packages -- ########################################################################################\n",
    "########################################################################################################################\n",
    "import os\n",
    "import sys\n",
    "sys.path.append(os.path.abspath(\"..\"))\n",
    "import torch\n",
    "import transformer\n",
    "\n",
    "########################################################################################################################\n",
    "## -- testing the data handler module -- ###############################################################################\n",
    "########################################################################################################################\n",
    "src_vocab_path = \"../data/vocabs/en_vocab.json\"\n",
    "tgt_vocab_path = \"../data/vocabs/fa_vocab.json\"\n",
    "src_path, src_name = \"../data/dataset/Tatoeba.zip\", \"en.txt\"\n",
    "tgt_path, tgt_name = \"../data/dataset/Tatoeba.zip\", \"fa.txt\"\n",
    "SOS_TOKEN, PAD_TOKEN, EOS_TOKEN = '<SOS>', '<PAD>', '<EOS>'\n",
    "\n",
    "data_handler = transformer.DataHandler(src_path, src_name, src_vocab_path, tgt_path, tgt_name, tgt_vocab_path, \n",
    "                                       SOS_TOKEN, PAD_TOKEN, EOS_TOKEN, max_sequence_length = 256, max_sentences = 1000)\n",
    "\n",
    "data = data_handler.data()\n",
    "\n",
    "########################################################################################################################\n",
    "## -- testing the transformer -- #######################################################################################\n",
    "########################################################################################################################\n",
    "batch_size, max_sequence_length, model_emb, hidden = 32, 256, 512, 2048\n",
    "num_heads, dropout_p, num_layers_enc, num_layers_dec = 8, 0.1, 2, 2\n",
    "\n",
    "transformer_pipeline = transformer.Transformer(model_emb, hidden, num_heads, dropout_p, num_layers_enc, \n",
    "                                               num_layers_dec, max_sequence_length, data.src_stoi, data.tgt_stoi, \n",
    "                                               SOS_TOKEN, PAD_TOKEN, EOS_TOKEN, device = 'cpu')\n",
    "\n",
    "en_batch, fa_batch = (\"Hi\",), (\"سلام\",)\n",
    "enc_mask, dec_mask, dec_cross_mask = transformer.MaskGenerator(max_sequence_length = max_sequence_length).generate_masks(en_batch, fa_batch)\n",
    "transformer_pipeline(en_batch, fa_batch, enc_sos_token = False, enc_eof_token = False, \n",
    "                     dec_sos_token = False, dec_eos_token = False, enc_mask = enc_mask, \n",
    "                     dec_mask = dec_mask, dec_cross_mask = dec_cross_mask).shape"
   ]
  },
  {
   "cell_type": "code",
   "execution_count": null,
   "id": "21461108",
   "metadata": {},
   "outputs": [],
   "source": []
  }
 ],
 "metadata": {
  "kernelspec": {
   "display_name": "transformersInsideOut",
   "language": "python",
   "name": "python3"
  },
  "language_info": {
   "codemirror_mode": {
    "name": "ipython",
    "version": 3
   },
   "file_extension": ".py",
   "mimetype": "text/x-python",
   "name": "python",
   "nbconvert_exporter": "python",
   "pygments_lexer": "ipython3",
   "version": "3.11.13"
  }
 },
 "nbformat": 4,
 "nbformat_minor": 5
}
