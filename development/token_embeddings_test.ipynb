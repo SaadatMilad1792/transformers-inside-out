{
 "cells": [
  {
   "cell_type": "code",
   "execution_count": 11,
   "id": "11289e4e",
   "metadata": {},
   "outputs": [
    {
     "name": "stdout",
     "output_type": "stream",
     "text": [
      "In batch 0, there are 4 English and Persian sentences\n",
      "The first English sentence in this batch is: \n",
      "i just don't know what to say.\n",
      "The first Persian sentence in this batch is: \n",
      "من فقط نمی دانم چه بگویم.\n",
      "\n",
      "In batch 0, there are 4 English and Persian sentences\n",
      "The first tokenized English sentence in this batch is: \n",
      "torch.Size([4, 36]), tensor([ 0,  9, 95, 10, 21, 19, 20, 95,  4, 15, 14, 87, 20, 95, 11, 14, 15, 23,\n",
      "        95, 23,  8,  1, 20, 95, 20, 15, 95, 19,  1, 25, 91, 97, 96, 96, 96, 96])\n",
      "The first tokenized Persian sentence in this batch is: \n",
      "torch.Size([4, 36]), tensor([ 0, 28, 29, 82, 23, 24, 19, 82, 29, 28, 32, 82, 10,  1, 29, 28, 82,  7,\n",
      "        31, 82,  2, 26, 30, 32, 28, 78, 84, 83, 83, 83, 83, 83, 83, 83, 83, 83])\n"
     ]
    }
   ],
   "source": [
    "########################################################################################################################\n",
    "## -- libraries and packages -- ########################################################################################\n",
    "########################################################################################################################\n",
    "import os\n",
    "import sys\n",
    "sys.path.append(os.path.abspath(\"..\"))\n",
    "import transformer\n",
    "from torch.utils.data import DataLoader\n",
    "\n",
    "########################################################################################################################\n",
    "## -- testing the tokenizer module -- ##################################################################################\n",
    "########################################################################################################################\n",
    "src_vocab_path = \"../data/vocabs/en_vocab.json\"\n",
    "tgt_vocab_path = \"../data/vocabs/fa_vocab.json\"\n",
    "src_path, src_name = \"../data/dataset/Tatoeba.zip\", \"en.txt\"\n",
    "tgt_path, tgt_name = \"../data/dataset/Tatoeba.zip\", \"fa.txt\"\n",
    "SOS_TOKEN, PAD_TOKEN, EOS_TOKEN = '<SOS>', '<PAD>', '<EOS>'\n",
    "\n",
    "data_handler = transformer.DataHandler(src_path, src_name, src_vocab_path, tgt_path, tgt_name, tgt_vocab_path, \n",
    "                                       SOS_TOKEN, PAD_TOKEN, EOS_TOKEN, max_sequence_length = 36, max_sentences = 1000)\n",
    "\n",
    "data = data_handler.data()\n",
    "\n",
    "max_sequence_length = 36\n",
    "en_tokenizer = transformer.Tokenizer(data.src_stoi, max_sequence_length = max_sequence_length,\n",
    "                                     SOS_TOKEN = SOS_TOKEN, PAD_TOKEN = PAD_TOKEN, EOS_TOKEN = EOS_TOKEN)\n",
    "fa_tokenizer = transformer.Tokenizer(data.tgt_stoi, max_sequence_length = max_sequence_length, \n",
    "                                     SOS_TOKEN = SOS_TOKEN, PAD_TOKEN = PAD_TOKEN, EOS_TOKEN = EOS_TOKEN)\n",
    "\n",
    "batch_size = 4\n",
    "dataset = transformer.TransformerDataset(data.src_sentences, data.tgt_sentences)\n",
    "dataloader = DataLoader(dataset, batch_size = batch_size, shuffle = False)\n",
    "\n",
    "for batch_idx, (en_batch, fa_batch) in enumerate(dataloader):\n",
    "  print(f\"In batch {batch_idx}, there are {batch_size} English and Persian sentences\")\n",
    "  print(f\"The first English sentence in this batch is: \\n{en_batch[0]}\")\n",
    "  print(f\"The first Persian sentence in this batch is: \\n{fa_batch[0]}\")\n",
    "\n",
    "  en_batch_tokenized = en_tokenizer.batch_tokenize(en_batch, sos_token = True, eos_token = True)\n",
    "  fa_batch_tokenized = fa_tokenizer.batch_tokenize(fa_batch, sos_token = True, eos_token = True)\n",
    "  print()\n",
    "  print(f\"In batch {batch_idx}, there are {batch_size} English and Persian sentences\")\n",
    "  print(f\"The first tokenized English sentence in this batch is: \\n{en_batch_tokenized.shape}, {en_batch_tokenized[0, :36]}\")\n",
    "  print(f\"The first tokenized Persian sentence in this batch is: \\n{fa_batch_tokenized.shape}, {fa_batch_tokenized[0, :36]}\")\n",
    "  break"
   ]
  },
  {
   "cell_type": "code",
   "execution_count": 12,
   "id": "ed0fccb7",
   "metadata": {},
   "outputs": [
    {
     "data": {
      "text/plain": [
       "torch.Size([3, 256, 512])"
      ]
     },
     "execution_count": 12,
     "metadata": {},
     "output_type": "execute_result"
    }
   ],
   "source": [
    "########################################################################################################################\n",
    "## -- testing the token embedding module -- ############################################################################\n",
    "########################################################################################################################\n",
    "max_sequence_length, model_emb, stoi, dropout_p = 256, 512, data.src_stoi, 0.1\n",
    "token_embedding = transformer.TokenEmbedding(max_sequence_length, model_emb, stoi, dropout_p,\n",
    "                                             SOS_TOKEN = SOS_TOKEN, PAD_TOKEN = PAD_TOKEN, \n",
    "                                             EOS_TOKEN = EOS_TOKEN, device = 'cpu')\n",
    "inp = (\"Hello\", \"Bye Bye\", \"Wait for me too\", )\n",
    "out = token_embedding(inp, sos_token = True, eos_token = True)\n",
    "out.shape"
   ]
  },
  {
   "cell_type": "code",
   "execution_count": null,
   "id": "d092e43f",
   "metadata": {},
   "outputs": [],
   "source": []
  }
 ],
 "metadata": {
  "kernelspec": {
   "display_name": "transformersInsideOut",
   "language": "python",
   "name": "python3"
  },
  "language_info": {
   "codemirror_mode": {
    "name": "ipython",
    "version": 3
   },
   "file_extension": ".py",
   "mimetype": "text/x-python",
   "name": "python",
   "nbconvert_exporter": "python",
   "pygments_lexer": "ipython3",
   "version": "3.11.13"
  }
 },
 "nbformat": 4,
 "nbformat_minor": 5
}
